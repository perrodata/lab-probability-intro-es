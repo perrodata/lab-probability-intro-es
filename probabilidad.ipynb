{
 "cells": [
  {
   "cell_type": "markdown",
   "metadata": {},
   "source": [
    "# Probability"
   ]
  },
  {
   "cell_type": "markdown",
   "metadata": {},
   "source": [
    "## Reto 1\n",
    "Hay una caja con 10 bolas blancas, 12 bolas rojas y 8 bolas negras. Calcula la probabilidad de:\n",
    "* Sacar una bola blanca.\n",
    "* Sacar una bola blanca en la primera extracción y una bola negra en la segunda extracción sin reemplazar la primera.\n",
    "* Sacar una bola blanca en la primera extracción y una bola negra en la segunda extracción reemplazando la primera.\n",
    "* Sacar 3 bolas y que sean todas de diferentes colores."
   ]
  },
  {
   "cell_type": "code",
   "execution_count": 27,
   "metadata": {},
   "outputs": [
    {
     "name": "stdout",
     "output_type": "stream",
     "text": [
      "Probabilidad de sacar una bola blanca: 0.3333\n",
      "Probabilidad de Blanca y Negra sin reemplazo: 0.0920\n",
      "Probabilidad de Blanca y Negra con reemplazo: 0.0889\n",
      "Probabilidad de sacar 3 bolas de diferentes colores: 0.2365\n"
     ]
    }
   ],
   "source": [
    "# Datos del problema\n",
    "total_bolas = 10 + 12 + 8  # Total de bolas en la caja\n",
    "bolas_blancas = 10\n",
    "bolas_rojas = 12\n",
    "bolas_negras = 8\n",
    "\n",
    "# Probabilidad de sacar una bola blanca\n",
    "prob_blanca = bolas_blancas / total_bolas\n",
    "print(f\"Probabilidad de sacar una bola blanca: {prob_blanca:.4f}\")\n",
    "\n",
    "# Probabilidad de sacar una bola blanca en la primera extracción\n",
    "# y una bola negra en la segunda extracción sin reemplazar la primera\n",
    "prob_negra_sin_reemplazo = (bolas_negras / (total_bolas - 1))  # Restamos la bola blanca ya sacada\n",
    "prob_blanca_negra_sin_reemplazo = prob_blanca * prob_negra_sin_reemplazo\n",
    "print(f\"Probabilidad de Blanca y Negra sin reemplazo: {prob_blanca_negra_sin_reemplazo:.4f}\")\n",
    "\n",
    "# Probabilidad de sacar una bola blanca en la primera extracción\n",
    "# y una bola negra en la segunda extracción reemplazando la primera\n",
    "prob_negra_con_reemplazo = bolas_negras / total_bolas\n",
    "prob_blanca_negra_con_reemplazo = prob_blanca * prob_negra_con_reemplazo\n",
    "print(f\"Probabilidad de Blanca y Negra con reemplazo: {prob_blanca_negra_con_reemplazo:.4f}\")\n",
    "\n",
    "# Probabilidad de sacar 3 bolas y que sean todas de diferentes colores\n",
    "# Calculando todas las combinaciones posibles y sumando sus probabilidades\n",
    "# Combinaciones: Blanco-Rojo-Negro, Blanco-Negro-Rojo, Rojo-Blanco-Negro, Rojo-Negro-Blanco, Negro-Blanco-Rojo, Negro-Rojo-Blanco\n",
    "total_combinaciones = total_bolas * (total_bolas - 1) * (total_bolas - 2)\n",
    "prob_tres_diferentes = (\n",
    "    (bolas_blancas * bolas_rojas * bolas_negras + \n",
    "     bolas_blancas * bolas_negras * bolas_rojas + \n",
    "     bolas_rojas * bolas_blancas * bolas_negras + \n",
    "     bolas_rojas * bolas_negras * bolas_blancas + \n",
    "     bolas_negras * bolas_blancas * bolas_rojas + \n",
    "     bolas_negras * bolas_rojas * bolas_blancas) / total_combinaciones\n",
    ")\n",
    "print(f\"Probabilidad de sacar 3 bolas de diferentes colores: {prob_tres_diferentes:.4f}\")\n"
   ]
  },
  {
   "cell_type": "markdown",
   "metadata": {},
   "source": [
    "## Reto 2\n",
    "\n",
    "Quieres ir de picnic el sábado. Odias la lluvia y quieres planificar tu fin de semana. Para ayudarte a tomar una decisión, recopilas los siguientes datos sobre los días lluviosos:\n",
    "\n",
    "* El 40% de todos los días están nublados.\n",
    "* Aproximadamente el 50% de los días nublados son lluviosos.\n",
    "* Aproximadamente el 20% de los días no nublados son lluviosos.\n",
    "\n",
    "¿Cuál es la probabilidad de que llueva el próximo sábado?"
   ]
  },
  {
   "cell_type": "code",
   "execution_count": 19,
   "metadata": {},
   "outputs": [
    {
     "name": "stdout",
     "output_type": "stream",
     "text": [
      "La probabilidad de que llueva el próximo sábado es: 0.32 o 32.00%\n"
     ]
    }
   ],
   "source": [
    "# Definimos las probabilidades\n",
    "P_N = 0.40      # Probabilidad de que un día sea nublado\n",
    "P_not_N = 0.60  # Probabilidad de que un día no sea nublado (1 - P(N))\n",
    "P_L_given_N = 0.50   # Probabilidad de que un día lluvioso dado que es nublado\n",
    "P_L_given_not_N = 0.20  # Probabilidad de que un día lluvioso dado que no es nublado\n",
    "\n",
    "# Usamos el teorema de la probabilidad total para calcular P(L)\n",
    "P_L = (P_L_given_N * P_N) + (P_L_given_not_N * P_not_N)\n",
    "\n",
    "print(f\"La probabilidad de que llueva el próximo sábado es: {P_L:.2f} o {P_L*100:.2f}%\")\n"
   ]
  },
  {
   "cell_type": "markdown",
   "metadata": {},
   "source": [
    "## Reto 3\n",
    "\n",
    "A y B son eventos de una probabilidad tal que \\(P(A) = 0.3\\), \\(P(B) = 0.6\\) y \\(P(A \\cap B) = 0.1\\)\n",
    "\n",
    "¿Cuáles de las siguientes afirmaciones son verdaderas?\n",
    "**SUGERENCIA: dibuja un gran diagrama de Venn a tu lado**\n",
    "* \\(P(\\overline{A}) = 0.7\\)\n",
    "* \\(P(A \\cup B) = 0.6\\)\n",
    "* \\(P(A \\cap \\overline{B}) = 0.2\\)\n",
    "* \\(P(A \\cup \\overline{A}) = 1\\)  \n",
    "* \\(P(A \\cap (B \\cup \\overline{B})) = 0.4\\)\n",
    "* \\(P(\\overline{A} \\cap \\overline{B}) = 0.3\\)\n",
    "* \\(P(\\overline{A \\cap B}) = 0.9\\)"
   ]
  },
  {
   "cell_type": "code",
   "execution_count": 25,
   "metadata": {},
   "outputs": [
    {
     "name": "stdout",
     "output_type": "stream",
     "text": [
      "Afirmación 1: P(¬A) = 0.7 es True\n",
      "Afirmación 2: P(A ∪ B) = 0.6 es False\n",
      "Afirmación 3: P(A ∩ ¬B) = 0.2 es False\n",
      "Afirmación 4: P(A ∪ ¬A) = 1 es True\n",
      "Afirmación 5: P(A ∩ (B ∪ ¬B)) = 0.4 es False\n",
      "Afirmación 6: P(¬A ∩ ¬B) = 0.3 es False\n",
      "Afirmación 7: P(¬(A ∩ B)) = 0.9 es True\n"
     ]
    }
   ],
   "source": [
    "# Definición de probabilidades dadas\n",
    "P_A = 0.3\n",
    "P_B = 0.6\n",
    "P_A_interseccion_B = 0.1\n",
    "\n",
    "# Verificación de las afirmaciones\n",
    "# Afirmación 1: P(\\overline{A}) = 0.7\n",
    "P_no_A = 1 - P_A\n",
    "afirmacion_1 = P_no_A == 0.7\n",
    "\n",
    "# Afirmación 2: P(A \\cup B) = 0.6\n",
    "P_union_A_B = P_A + P_B - P_A_interseccion_B\n",
    "afirmacion_2 = P_union_A_B == 0.6\n",
    "\n",
    "# Afirmación 3: P(A \\cap \\overline{B}) = 0.2\n",
    "P_A_interseccion_no_B = P_A - P_A_interseccion_B\n",
    "afirmacion_3 = P_A_interseccion_no_B == 0.2\n",
    "\n",
    "# Afirmación 4: P(A \\cup \\overline{A}) = 1\n",
    "P_union_A_no_A = P_A + P_no_A\n",
    "afirmacion_4 = P_union_A_no_A == 1\n",
    "\n",
    "# Afirmación 5: P(A \\cap (B \\cup \\overline{B})) = 0.4\n",
    "P_B_union_no_B = 1  # Ya que B y su complemento cubren todo el espacio muestral\n",
    "P_A_interseccion_B_union_no_B = P_A  # P(A \\cap Espacio Muestral) = P(A)\n",
    "afirmacion_5 = P_A_interseccion_B_union_no_B == 0.4\n",
    "\n",
    "# Afirmación 6: P(\\overline{A} \\cap \\overline{B}) = 0.3\n",
    "P_no_A_interseccion_no_B = 1 - P_union_A_B\n",
    "afirmacion_6 = P_no_A_interseccion_no_B == 0.3\n",
    "\n",
    "# Afirmación 7: P(\\overline{A \\cap B}) = 0.9\n",
    "P_no_A_interseccion_B = 1 - P_A_interseccion_B\n",
    "afirmacion_7 = P_no_A_interseccion_B == 0.9\n",
    "\n",
    "# Imprimir resultados\n",
    "print(f\"Afirmación 1: P(¬A) = 0.7 es {afirmacion_1}\")\n",
    "print(f\"Afirmación 2: P(A ∪ B) = 0.6 es {afirmacion_2}\")\n",
    "print(f\"Afirmación 3: P(A ∩ ¬B) = 0.2 es {afirmacion_3}\")\n",
    "print(f\"Afirmación 4: P(A ∪ ¬A) = 1 es {afirmacion_4}\")\n",
    "print(f\"Afirmación 5: P(A ∩ (B ∪ ¬B)) = 0.4 es {afirmacion_5}\")\n",
    "print(f\"Afirmación 6: P(¬A ∩ ¬B) = 0.3 es {afirmacion_6}\")\n",
    "print(f\"Afirmación 7: P(¬(A ∩ B)) = 0.9 es {afirmacion_7}\")\n"
   ]
  },
  {
   "cell_type": "markdown",
   "metadata": {},
   "source": [
    "## Reto 4\n",
    "\n",
    "* Si alguien viaja a China, la probabilidad de contraer Covid es del 1%\n",
    "* Si alguien viaja a Italia, la probabilidad de contraer Covid es del 20%\n",
    "\n",
    "Lanzo un dado con números 1, 2, 3, 4, 5, 6:\n",
    "* Si sale 1: Vuelo a Italia\n",
    "* Si no sale 1: Vuelo a China\n",
    "\n",
    "Durante mi viaje, contraje Covid. ¿Cuál es la probabilidad de que haya volado a China?"
   ]
  },
  {
   "cell_type": "code",
   "execution_count": 21,
   "metadata": {},
   "outputs": [
    {
     "name": "stdout",
     "output_type": "stream",
     "text": [
      "La probabilidad de haber volado a China dado que contrajiste Covid es: 0.2000\n"
     ]
    }
   ],
   "source": [
    "# Definición de probabilidades\n",
    "P_C_given_I = 0.20  # Probabilidad de contraer Covid si vuelas a Italia\n",
    "P_C_given_Ch = 0.01  # Probabilidad de contraer Covid si vuelas a China\n",
    "P_I = 1 / 6  # Probabilidad de volar a Italia (lanzar un dado y obtener 1)\n",
    "P_Ch = 1 - P_I  # Probabilidad de volar a China (no obtener 1 en el dado)\n",
    "\n",
    "# Probabilidad total de contraer Covid\n",
    "P_C = P_C_given_I * P_I + P_C_given_Ch * P_Ch\n",
    "\n",
    "# Aplicación del teorema de Bayes para obtener P(Ch | C)\n",
    "P_Ch_given_C = (P_C_given_Ch * P_Ch) / P_C\n",
    "\n",
    "# Imprimir el resultado\n",
    "print(f\"La probabilidad de haber volado a China dado que contrajiste Covid es: {P_Ch_given_C:.4f}\")\n"
   ]
  },
  {
   "cell_type": "markdown",
   "metadata": {},
   "source": [
    "## BONUS\n",
    "\n",
    "Lanzas 2 dados. ¿Cuál es la probabilidad de que la suma de los números sea 7? ¿Y 8? ¿Y 9? Luego simula 10000 veces y dibuja un gráfico de conteo.\n",
    "\n",
    "tu explicación aquí"
   ]
  },
  {
   "cell_type": "code",
   "execution_count": 30,
   "metadata": {},
   "outputs": [
    {
     "name": "stdout",
     "output_type": "stream",
     "text": [
      "Probabilidad de suma 7: 0.1673\n",
      "Probabilidad de suma 8: 0.1366\n",
      "Probabilidad de suma 9: 0.1141\n"
     ]
    },
    {
     "data": {
      "image/png": "[encoded data removed]",
      "text/plain": [
       "<Figure size 640x480 with 1 Axes>"
      ]
     },
     "metadata": {},
     "output_type": "display_data"
    }
   ],
   "source": [
    "import random\n",
    "import matplotlib.pyplot as plt\n",
    "\n",
    "# Función para simular el lanzamiento de dos dados y calcular la suma\n",
    "def lanzamiento_dados():\n",
    "    dado1 = random.randint(1, 6)\n",
    "    dado2 = random.randint(1, 6)\n",
    "    return dado1 + dado2\n",
    "\n",
    "# Simular 10000 lanzamientos y contar las ocurrencias de cada suma\n",
    "num_lanzamientos = 10000\n",
    "resultados = {'7': 0, '8': 0, '9': 0}\n",
    "\n",
    "for _ in range(num_lanzamientos):\n",
    "    suma = lanzamiento_dados()\n",
    "    if suma == 7:\n",
    "        resultados['7'] += 1\n",
    "    elif suma == 8:\n",
    "        resultados['8'] += 1\n",
    "    elif suma == 9:\n",
    "        resultados['9'] += 1\n",
    "\n",
    "# Calcular probabilidades\n",
    "prob_7 = resultados['7'] / num_lanzamientos\n",
    "prob_8 = resultados['8'] / num_lanzamientos\n",
    "prob_9 = resultados['9'] / num_lanzamientos\n",
    "\n",
    "print(f\"Probabilidad de suma 7: {prob_7:.4f}\")\n",
    "print(f\"Probabilidad de suma 8: {prob_8:.4f}\")\n",
    "print(f\"Probabilidad de suma 9: {prob_9:.4f}\")\n",
    "\n",
    "# Graficar resultados\n",
    "plt.bar(resultados.keys(), resultados.values(), color='skyblue')\n",
    "plt.title('Frecuencia de Sumas en 10000 Lanzamientos de 2 Dados')\n",
    "plt.xlabel('Suma de los Dados')\n",
    "plt.ylabel('Frecuencia')\n",
    "plt.show()\n"
   ]
  }
 ],
 "metadata": {
  "kernelspec": {
   "display_name": "Python 3 (ipykernel)",
   "language": "python",
   "name": "python3"
  },
  "language_info": {
   "codemirror_mode": {
    "name": "ipython",
    "version": 3
   },
   "file_extension": ".py",
   "mimetype": "text/x-python",
   "name": "python",
   "nbconvert_exporter": "python",
   "pygments_lexer": "ipython3",
   "version": "3.12.4"
  },
  "toc": {
   "base_numbering": 1,
   "nav_menu": {},
   "number_sections": false,
   "sideBar": true,
   "skip_h1_title": false,
   "title_cell": "Table of Contents",
   "title_sidebar": "Contents",
   "toc_cell": false,
   "toc_position": {
    "height": "calc(100% - 180px)",
    "left": "10px",
    "top": "150px",
    "width": "296.475px"
   },
   "toc_section_display": true,
   "toc_window_display": false
  },
  "varInspector": {
   "cols": {
    "lenName": 16,
    "lenType": 16,
    "lenVar": 40
   },
   "kernels_config": {
    "python": {
     "delete_cmd_postfix": "",
     "delete_cmd_prefix": "del ",
     "library": "var_list.py",
     "varRefreshCmd": "print(var_dic_list())"
    },
    "r": {
     "delete_cmd_postfix": ") ",
     "delete_cmd_prefix": "rm(",
     "library": "var_list.r",
     "varRefreshCmd": "cat(var_dic_list()) "
    }
   },
   "types_to_exclude": [
    "module",
    "function",
    "builtin_function_or_method",
    "instance",
    "_Feature"
   ],
   "window_display": false
  }
 },
 "nbformat": 4,
 "nbformat_minor": 4
}
